{
 "cells": [
  {
   "cell_type": "code",
   "execution_count": null,
   "id": "bf72e8ea",
   "metadata": {},
   "outputs": [],
   "source": [
    "#Question 1\n",
    "class Point3D(object):\n",
    "    def __init__(self, x, y, z):\n",
    "        self.x = x\n",
    "        self.y = y\n",
    "        self.z = z\n",
    "    def __repr__(self):\n",
    "        return \"(%d, %d, %d)\" % (self.x, self.y, self.z)\n",
    "        \n",
    "my_point = Point3D(1,2,3)\n",
    "\n",
    "print my_point"
   ]
  },
  {
   "cell_type": "code",
   "execution_count": null,
   "id": "d06fb9db",
   "metadata": {},
   "outputs": [],
   "source": [
    "#Question 2\n",
    "class Rectangle():\n",
    "    def __init__(self, l, w):\n",
    "        self.length = l\n",
    "        self.width  = w\n",
    "\n",
    "    def rectangle_area(self):\n",
    "        return self.length*self.width\n",
    "\n",
    "newRectangle = Rectangle(12, 10)\n",
    "print(newRectangle.rectangle_area())"
   ]
  },
  {
   "cell_type": "code",
   "execution_count": null,
   "id": "4144be22",
   "metadata": {},
   "outputs": [],
   "source": [
    "#Question 3\n",
    "class Circle():\n",
    "    def __init__(self, r):\n",
    "        self.radius = r\n",
    "\n",
    "    def area(self):\n",
    "        return self.radius**2*3.14\n",
    "    \n",
    "    def perimeter(self):\n",
    "        return 2*self.radius*3.14\n",
    "\n",
    "NewCircle = Circle(8)\n",
    "print(NewCircle.area())\n",
    "print(NewCircle.perimeter())"
   ]
  },
  {
   "cell_type": "code",
   "execution_count": null,
   "id": "56198596",
   "metadata": {},
   "outputs": [],
   "source": [
    "#Question 4\n",
    "class AccountP(object):\n",
    "    def __init__(self, name, account_number, initial_amount):\n",
    "        self._name = name\n",
    "        self._no = account_number\n",
    "        self._balance = initial_amount\n",
    "\n",
    "    def deposit(self, amount):\n",
    "        self._balance += amount\n",
    "\n",
    "    def withdraw(self, amount):\n",
    "        self._balance -= amount\n",
    "\n",
    "    def get_balance(self):\n",
    "        return self._balance\n",
    "\n",
    "    def dump(self):\n",
    "        s = '%s, %s, balance: %s' % \\ \n",
    "            (self._name, self._no, self._balance)\n",
    "        print s"
   ]
  }
 ],
 "metadata": {
  "kernelspec": {
   "display_name": "Python 3",
   "language": "python",
   "name": "python3"
  },
  "language_info": {
   "codemirror_mode": {
    "name": "ipython",
    "version": 3
   },
   "file_extension": ".py",
   "mimetype": "text/x-python",
   "name": "python",
   "nbconvert_exporter": "python",
   "pygments_lexer": "ipython3",
   "version": "3.8.8"
  }
 },
 "nbformat": 4,
 "nbformat_minor": 5
}
